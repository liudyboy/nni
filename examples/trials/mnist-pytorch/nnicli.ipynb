{
 "cells": [
  {
   "cell_type": "markdown",
   "metadata": {},
   "source": [
    "# Using NNI Python APIs\n",
    "\n",
    "NNI provides `nnicli` module as a python wrapper for its restful API clients, which can be used to control and query NNI experiments and trial jobs in your python code. This notebook shows how to use `nnicli` module.\n",
    "\n",
    "The APIs available once you installed via `pip install nni`. For detailed API reference, please refer to [this page](https://nni.readthedocs.io/en/latest/nnicli_ref.html)."
   ]
  },
  {
   "cell_type": "code",
   "execution_count": 1,
   "metadata": {},
   "outputs": [],
   "source": [
    "from nnicli import Experiment"
   ]
  },
  {
   "cell_type": "markdown",
   "metadata": {},
   "source": [
    "It is compatible with **AdaptDL** if the installation requirements in \"Getting Started\" are satisfied:  (i) Petuum build of `nni==<version>+petuum` and (ii)  `.kube/config` file to access the training cluster with AdaptDL scheduler."
   ]
  },
  {
   "cell_type": "markdown",
   "metadata": {},
   "source": [
    "## Start  an Experiment\n",
    "\n",
    "Let's use a configruation file in nni examples directory to start an experiment."
   ]
  },
  {
   "cell_type": "code",
   "execution_count": 2,
   "metadata": {},
   "outputs": [
    {
     "name": "stdout",
     "output_type": "stream",
     "text": [
      "authorName: default\r\n",
      "experimentName: example_mnist_pytorch\r\n",
      "trialConcurrency: 1\r\n",
      "maxExecDuration: 1h\r\n",
      "maxTrialNum: 10\r\n",
      "\r\n",
      "nniManagerIp: 10.20.100.121\r\n",
      "logCollection: http\r\n",
      "trainingServicePlatform: adl\r\n",
      "\r\n",
      "searchSpacePath: search_space.json\r\n",
      "useAnnotation: false\r\n",
      "tuner:\r\n",
      "  builtinTunerName: TPE\r\n",
      "  classArgs:\r\n",
      "    optimize_mode: maximize\r\n",
      "\r\n",
      "trial:\r\n",
      "  image: registry.petuum.com/dev/train-demo:mnist-pytorch-adl\r\n",
      "  imagePullSecrets:\r\n",
      "    - name: stagingsecret\r\n",
      "  command: python3 mnist.py\r\n",
      "  codeDir: .\r\n",
      "  gpuNum: 1\r\n"
     ]
    }
   ],
   "source": [
    "! cat ./config_adl.yml"
   ]
  },
  {
   "cell_type": "code",
   "execution_count": 3,
   "metadata": {},
   "outputs": [
    {
     "name": "stdout",
     "output_type": "stream",
     "text": [
      "INFO:  expand searchSpacePath: search_space.json to /Users/ubuntu/workspace/nni/examples/trials/mnist-pytorch/search_space.json\n",
      "INFO:  expand codeDir: . to /Users/ubuntu/workspace/nni/examples/trials/mnist-pytorch/.\n",
      "INFO:  Starting restful server...\n",
      "INFO:  Successfully started Restful server!\n",
      "INFO:  Setting adl config...\n",
      "INFO:  Successfully set adl config!\n",
      "INFO:  Starting experiment...\n",
      "INFO:  Successfully started experiment!\n",
      "------------------------------------------------------------------------------------\n",
      "The experiment id is raMAGcBW\n",
      "The Web UI urls are: 10.20.100.121:8080\n",
      "------------------------------------------------------------------------------------\n",
      "\n",
      "You can use these commands to get more information about the experiment\n",
      "------------------------------------------------------------------------------------\n",
      "commands                       description\n",
      "1. nnictl experiment show        show the information of experiments\n",
      "2. nnictl trial ls               list all of trial jobs\n",
      "3. nnictl top                    monitor the status of running experiments\n",
      "4. nnictl log stderr             show stderr log content\n",
      "5. nnictl log stdout             show stdout log content\n",
      "6. nnictl stop                   stop an experiment\n",
      "7. nnictl trial kill             kill a trial job by id\n",
      "8. nnictl --help                 get help information about nnictl\n",
      "------------------------------------------------------------------------------------\n",
      "Command reference document https://nni.readthedocs.io/en/latest/Tutorial/Nnictl.html\n",
      "------------------------------------------------------------------------------------\n",
      "\n"
     ]
    }
   ],
   "source": [
    "from nnicli import Experiment\n",
    "\n",
    "# create an experiment instance\n",
    "exp = Experiment() \n",
    "\n",
    "# start an experiment, then connect the instance to this experiment\n",
    "# you can also use `resume_experiment`, `view_experiment` or `connect_experiment`\n",
    "# only one of them should be called in one instance\n",
    "exp.start_experiment('./config_adl.yml', port=8080)"
   ]
  },
  {
   "cell_type": "code",
   "execution_count": 4,
   "metadata": {},
   "outputs": [
    {
     "name": "stdout",
     "output_type": "stream",
     "text": [
      "INFO:  Update concurrency success!\n"
     ]
    }
   ],
   "source": [
    "# update the experiment's concurrency\n",
    "exp.update_concurrency(2)"
   ]
  },
  {
   "cell_type": "markdown",
   "metadata": {},
   "source": [
    "## Connect a Running Experiment\n",
    "\n",
    "Connect `nnicli` moduele to the rest server of started nni experiment. Local mode training serviced is used in this notebook, but nnicli module can connect to any started nni experiment. The endpoint can be found in the output of `start_experiment` function."
   ]
  },
  {
   "cell_type": "code",
   "execution_count": 5,
   "metadata": {},
   "outputs": [],
   "source": [
    "exp = Experiment()\n",
    "exp.connect_experiment('http://127.0.0.1:8080')"
   ]
  },
  {
   "cell_type": "markdown",
   "metadata": {},
   "source": [
    "## Retrieve Experiment Information"
   ]
  },
  {
   "cell_type": "code",
   "execution_count": 6,
   "metadata": {},
   "outputs": [
    {
     "name": "stdout",
     "output_type": "stream",
     "text": [
      "{'params': {'authorName': 'default', 'experimentName': 'example_mnist_pytorch', 'trialConcurrency': 1, 'maxExecDuration': 3600, 'maxTrialNum': 10, 'searchSpace': '{\"batch_size\": {\"_type\": \"choice\", \"_value\": [16, 32, 64, 128]}, \"hidden_size\": {\"_type\": \"choice\", \"_value\": [128, 256, 512, 1024]}, \"lr\": {\"_type\": \"choice\", \"_value\": [0.0001, 0.001, 0.01, 0.1]}, \"momentum\": {\"_type\": \"uniform\", \"_value\": [0, 1]}}', 'trainingServicePlatform': 'adl', 'tuner': {'builtinTunerName': 'TPE', 'classArgs': {'optimize_mode': 'maximize'}, 'checkpointDir': '/Users/ubuntu/nni-experiments/xpX702bz/checkpoint'}, 'versionCheck': True, 'clusterMetaData': []}, 'id': 'xpX702bz', 'execDuration': 2956, 'startTime': 1600621903511, 'logDir': '/Users/ubuntu/nni-experiments/xpX702bz', 'nextSequenceId': 11, 'revision': 309, 'endTime': 1600625066979}\n"
     ]
    }
   ],
   "source": [
    "profile = exp.get_experiment_profile()\n",
    "print(profile)"
   ]
  },
  {
   "cell_type": "code",
   "execution_count": 7,
   "metadata": {},
   "outputs": [
    {
     "name": "stdout",
     "output_type": "stream",
     "text": [
      "Is it using AdaptDL scheduler?: True\n"
     ]
    }
   ],
   "source": [
    "print('Is it using AdaptDL scheduler?:', profile['params']['trainingServicePlatform'] == 'adl')"
   ]
  },
  {
   "cell_type": "code",
   "execution_count": 8,
   "metadata": {},
   "outputs": [
    {
     "data": {
      "text/plain": [
       "{'status': 'DONE', 'errors': []}"
      ]
     },
     "execution_count": 8,
     "metadata": {},
     "output_type": "execute_result"
    }
   ],
   "source": [
    "exp.get_experiment_status()"
   ]
  },
  {
   "cell_type": "code",
   "execution_count": 9,
   "metadata": {},
   "outputs": [
    {
     "name": "stdout",
     "output_type": "stream",
     "text": [
      "10\n",
      "[TrialJob(trialJobId: CBRq5 status: SUCCEEDED hyperParameters: [TrialHyperParameters(parameter_id: 0 parameter_source: algorithm parameters: {'batch_size': 64, 'hidden_size': 128, 'lr': 0.01, 'momentum': 0.405889181698159} parameter_index: 0)] logPath: output startTime: 1600621908000 endTime: 1600622107273 finalMetricData: [TrialMetricData(timestamp: 1600622094503 trialJobId: CBRq5 parameterId: 0 type: FINAL sequence: 0 data: 99.02)] stderrPath: None), TrialJob(trialJobId: ah7rc status: SUCCEEDED hyperParameters: [TrialHyperParameters(parameter_id: 1 parameter_source: algorithm parameters: {'batch_size': 128, 'hidden_size': 128, 'lr': 0.1, 'momentum': 0.6306322181873855} parameter_index: 0)] logPath: output startTime: 1600622115000 endTime: 1600622259927 finalMetricData: [TrialMetricData(timestamp: 1600622248490 trialJobId: ah7rc parameterId: 1 type: FINAL sequence: 0 data: 99.16)] stderrPath: None), TrialJob(trialJobId: ntGry status: SUCCEEDED hyperParameters: [TrialHyperParameters(parameter_id: 2 parameter_source: algorithm parameters: {'batch_size': 128, 'hidden_size': 256, 'lr': 0.01, 'momentum': 0.18067074619914125} parameter_index: 0)] logPath: output startTime: 1600622271000 endTime: 1600622445552 finalMetricData: [TrialMetricData(timestamp: 1600622432684 trialJobId: ntGry parameterId: 2 type: FINAL sequence: 0 data: 98.62)] stderrPath: None), TrialJob(trialJobId: bU38X status: SUCCEEDED hyperParameters: [TrialHyperParameters(parameter_id: 3 parameter_source: algorithm parameters: {'batch_size': 16, 'hidden_size': 1024, 'lr': 0.001, 'momentum': 0.5338367501479216} parameter_index: 0)] logPath: output startTime: 1600622451000 endTime: 1600622764742 finalMetricData: [TrialMetricData(timestamp: 1600622752406 trialJobId: bU38X parameterId: 3 type: FINAL sequence: 0 data: 98.81)] stderrPath: None), TrialJob(trialJobId: TmrMR status: SUCCEEDED hyperParameters: [TrialHyperParameters(parameter_id: 4 parameter_source: algorithm parameters: {'batch_size': 16, 'hidden_size': 512, 'lr': 0.1, 'momentum': 0.6930513099409733} parameter_index: 0)] logPath: output startTime: 1600622772000 endTime: 1600623040724 finalMetricData: [TrialMetricData(timestamp: 1600623028755 trialJobId: TmrMR parameterId: 4 type: FINAL sequence: 0 data: 9.8)] stderrPath: None), TrialJob(trialJobId: EDnUB status: FAILED hyperParameters: [TrialHyperParameters(parameter_id: 5 parameter_source: algorithm parameters: {'batch_size': 128, 'hidden_size': 1024, 'lr': 0.0001, 'momentum': 0.04350909195142094} parameter_index: 0)] logPath: output startTime: 1600623048884 endTime: 1600624227732 finalMetricData: None stderrPath: None), TrialJob(trialJobId: fyKpg status: SUCCEEDED hyperParameters: [TrialHyperParameters(parameter_id: 0 parameter_source: algorithm parameters: {'batch_size': 32, 'hidden_size': 128, 'lr': 0.01, 'momentum': 0.2565874141826947} parameter_index: 0)] logPath: output startTime: 1600624233000 endTime: 1600624540381 finalMetricData: [TrialMetricData(timestamp: 1600624529536 trialJobId: fyKpg parameterId: 0 type: FINAL sequence: 0 data: 99.06)] stderrPath: None), TrialJob(trialJobId: VoMCJ status: SUCCEEDED hyperParameters: [TrialHyperParameters(parameter_id: 1 parameter_source: algorithm parameters: {'batch_size': 128, 'hidden_size': 512, 'lr': 0.01, 'momentum': 0.259552132312303} parameter_index: 0)] logPath: output startTime: 1600624549000 endTime: 1600624718080 finalMetricData: [TrialMetricData(timestamp: 1600624705876 trialJobId: VoMCJ parameterId: 1 type: FINAL sequence: 0 data: 98.67)] stderrPath: None), TrialJob(trialJobId: O89wo status: SUCCEEDED hyperParameters: [TrialHyperParameters(parameter_id: 2 parameter_source: algorithm parameters: {'batch_size': 64, 'hidden_size': 512, 'lr': 0.0001, 'momentum': 0.8182249147061414} parameter_index: 0)] logPath: output startTime: 1600624725000 endTime: 1600624907632 finalMetricData: [TrialMetricData(timestamp: 1600624900647 trialJobId: O89wo parameterId: 2 type: FINAL sequence: 0 data: 93.75)] stderrPath: None), TrialJob(trialJobId: vBptg status: SUCCEEDED hyperParameters: [TrialHyperParameters(parameter_id: 3 parameter_source: algorithm parameters: {'batch_size': 128, 'hidden_size': 128, 'lr': 0.1, 'momentum': 0.11328929327212078} parameter_index: 0)] logPath: output startTime: 1600624916000 endTime: 1600625062304 finalMetricData: [TrialMetricData(timestamp: 1600625049524 trialJobId: vBptg parameterId: 3 type: FINAL sequence: 0 data: 99.07)] stderrPath: None)]\n"
     ]
    }
   ],
   "source": [
    "trial_jobs = exp.list_trial_jobs()\n",
    "print(len(trial_jobs))\n",
    "print(trial_jobs)"
   ]
  },
  {
   "cell_type": "code",
   "execution_count": 10,
   "metadata": {},
   "outputs": [
    {
     "name": "stdout",
     "output_type": "stream",
     "text": [
      "CBRq5\n"
     ]
    }
   ],
   "source": [
    "example_trial_id = trial_jobs[0].trialJobId\n",
    "print(example_trial_id)"
   ]
  },
  {
   "cell_type": "code",
   "execution_count": 11,
   "metadata": {},
   "outputs": [
    {
     "data": {
      "text/plain": [
       "TrialJob(trialJobId: CBRq5 status: SUCCEEDED hyperParameters: [TrialHyperParameters(parameter_id: 0 parameter_source: algorithm parameters: {'batch_size': 64, 'hidden_size': 128, 'lr': 0.01, 'momentum': 0.405889181698159} parameter_index: 0)] logPath: output startTime: 1600621908000 endTime: 1600622107273 finalMetricData: [TrialMetricData(timestamp: 1600622094503 trialJobId: CBRq5 parameterId: 0 type: FINAL sequence: 0 data: 99.02)] stderrPath: None)"
      ]
     },
     "execution_count": 11,
     "metadata": {},
     "output_type": "execute_result"
    }
   ],
   "source": [
    "exp.get_trial_job(trial_job_id=example_trial_id)"
   ]
  },
  {
   "cell_type": "code",
   "execution_count": 12,
   "metadata": {},
   "outputs": [
    {
     "name": "stdout",
     "output_type": "stream",
     "text": [
      "{'CBRq5': [TrialMetricData(timestamp: 1600621976809 trialJobId: CBRq5 parameterId: 0 type: PERIODICAL sequence: 0 data: 96.77), TrialMetricData(timestamp: 1600621989736 trialJobId: CBRq5 parameterId: 0 type: PERIODICAL sequence: 1 data: 97.92), TrialMetricData(timestamp: 1600622002913 trialJobId: CBRq5 parameterId: 0 type: PERIODICAL sequence: 2 data: 98.28), TrialMetricData(timestamp: 1600622016024 trialJobId: CBRq5 parameterId: 0 type: PERIODICAL sequence: 3 data: 98.16), TrialMetricData(timestamp: 1600622029004 trialJobId: CBRq5 parameterId: 0 type: PERIODICAL sequence: 4 data: 98.43), TrialMetricData(timestamp: 1600622042099 trialJobId: CBRq5 parameterId: 0 type: PERIODICAL sequence: 5 data: 98.69), TrialMetricData(timestamp: 1600622055301 trialJobId: CBRq5 parameterId: 0 type: PERIODICAL sequence: 6 data: 98.78), TrialMetricData(timestamp: 1600622068472 trialJobId: CBRq5 parameterId: 0 type: PERIODICAL sequence: 7 data: 98.92), TrialMetricData(timestamp: 1600622081582 trialJobId: CBRq5 parameterId: 0 type: PERIODICAL sequence: 8 data: 98.95), TrialMetricData(timestamp: 1600622094408 trialJobId: CBRq5 parameterId: 0 type: PERIODICAL sequence: 9 data: 99.02), TrialMetricData(timestamp: 1600622094503 trialJobId: CBRq5 parameterId: 0 type: FINAL sequence: 0 data: 99.02)]}\n"
     ]
    }
   ],
   "source": [
    "example_metrics = exp.get_job_metrics(trial_job_id=example_trial_id)\n",
    "print(example_metrics)"
   ]
  },
  {
   "cell_type": "markdown",
   "metadata": {},
   "source": [
    "## Visualizing Experiment Metrics (Optional)\n",
    "\n",
    "With the retrieved trial job information, we can do some analysis by visualizing the metric data, below is a simple example."
   ]
  },
  {
   "cell_type": "code",
   "execution_count": 13,
   "metadata": {},
   "outputs": [
    {
     "name": "stdout",
     "output_type": "stream",
     "text": [
      "Requirement already satisfied: matplotlib in /Users/ubuntu/workspace/nni/venv/lib/python3.8/site-packages (3.3.2)\n",
      "Requirement already satisfied: pyparsing!=2.0.4,!=2.1.2,!=2.1.6,>=2.0.3 in /Users/ubuntu/workspace/nni/venv/lib/python3.8/site-packages (from matplotlib) (2.4.7)\n",
      "Requirement already satisfied: cycler>=0.10 in /Users/ubuntu/workspace/nni/venv/lib/python3.8/site-packages (from matplotlib) (0.10.0)\n",
      "Requirement already satisfied: certifi>=2020.06.20 in /Users/ubuntu/workspace/nni/venv/lib/python3.8/site-packages (from matplotlib) (2020.6.20)\n",
      "Requirement already satisfied: pillow>=6.2.0 in /Users/ubuntu/workspace/nni/venv/lib/python3.8/site-packages (from matplotlib) (7.2.0)\n",
      "Requirement already satisfied: numpy>=1.15 in /Users/ubuntu/workspace/nni/venv/lib/python3.8/site-packages (from matplotlib) (1.19.2)\n",
      "Requirement already satisfied: kiwisolver>=1.0.1 in /Users/ubuntu/workspace/nni/venv/lib/python3.8/site-packages (from matplotlib) (1.2.0)\n",
      "Requirement already satisfied: python-dateutil>=2.1 in /Users/ubuntu/workspace/nni/venv/lib/python3.8/site-packages (from matplotlib) (2.8.1)\n",
      "Requirement already satisfied: six in /Users/ubuntu/workspace/nni/venv/lib/python3.8/site-packages (from cycler>=0.10->matplotlib) (1.15.0)\n",
      "Requirement already satisfied: seaborn in /Users/ubuntu/workspace/nni/venv/lib/python3.8/site-packages (0.11.0)\n",
      "Requirement already satisfied: numpy>=1.15 in /Users/ubuntu/workspace/nni/venv/lib/python3.8/site-packages (from seaborn) (1.19.2)\n",
      "Requirement already satisfied: scipy>=1.0 in /Users/ubuntu/workspace/nni/venv/lib/python3.8/site-packages (from seaborn) (1.5.2)\n",
      "Requirement already satisfied: matplotlib>=2.2 in /Users/ubuntu/workspace/nni/venv/lib/python3.8/site-packages (from seaborn) (3.3.2)\n",
      "Requirement already satisfied: pandas>=0.23 in /Users/ubuntu/workspace/nni/venv/lib/python3.8/site-packages (from seaborn) (1.1.2)\n",
      "Requirement already satisfied: pyparsing!=2.0.4,!=2.1.2,!=2.1.6,>=2.0.3 in /Users/ubuntu/workspace/nni/venv/lib/python3.8/site-packages (from matplotlib>=2.2->seaborn) (2.4.7)\n",
      "Requirement already satisfied: kiwisolver>=1.0.1 in /Users/ubuntu/workspace/nni/venv/lib/python3.8/site-packages (from matplotlib>=2.2->seaborn) (1.2.0)\n",
      "Requirement already satisfied: pillow>=6.2.0 in /Users/ubuntu/workspace/nni/venv/lib/python3.8/site-packages (from matplotlib>=2.2->seaborn) (7.2.0)\n",
      "Requirement already satisfied: python-dateutil>=2.1 in /Users/ubuntu/workspace/nni/venv/lib/python3.8/site-packages (from matplotlib>=2.2->seaborn) (2.8.1)\n",
      "Requirement already satisfied: certifi>=2020.06.20 in /Users/ubuntu/workspace/nni/venv/lib/python3.8/site-packages (from matplotlib>=2.2->seaborn) (2020.6.20)\n",
      "Requirement already satisfied: cycler>=0.10 in /Users/ubuntu/workspace/nni/venv/lib/python3.8/site-packages (from matplotlib>=2.2->seaborn) (0.10.0)\n",
      "Requirement already satisfied: pytz>=2017.2 in /Users/ubuntu/workspace/nni/venv/lib/python3.8/site-packages (from pandas>=0.23->seaborn) (2020.1)\n",
      "Requirement already satisfied: six>=1.5 in /Users/ubuntu/workspace/nni/venv/lib/python3.8/site-packages (from python-dateutil>=2.1->matplotlib>=2.2->seaborn) (1.15.0)\n"
     ]
    }
   ],
   "source": [
    "! pip install matplotlib\n",
    "! pip install seaborn"
   ]
  },
  {
   "cell_type": "code",
   "execution_count": 14,
   "metadata": {},
   "outputs": [
    {
     "data": {
      "text/plain": [
       "<matplotlib.legend.Legend at 0x1047c1040>"
      ]
     },
     "execution_count": 14,
     "metadata": {},
     "output_type": "execute_result"
    },
    {
     "data": {
      "image/png": "[encoded data removed]",
      "text/plain": [
       "<Figure size 432x288 with 1 Axes>"
      ]
     },
     "metadata": {
      "needs_background": "light"
     },
     "output_type": "display_data"
    }
   ],
   "source": [
    "import seaborn as sns\n",
    "import matplotlib.pyplot as plt\n",
    "plt.plot([x.data for x in example_metrics[example_trial_id]], '-o', \n",
    "         markevery=1,\n",
    "         label='%s Metrics: Accuracy' % example_trial_id)\n",
    "plt.legend()"
   ]
  },
  {
   "cell_type": "code",
   "execution_count": 15,
   "metadata": {
    "scrolled": false
   },
   "outputs": [
    {
     "data": {
      "image/png": "[encoded data removed]",
      "text/plain": [
       "<Figure size 1080x432 with 1 Axes>"
      ]
     },
     "metadata": {},
     "output_type": "display_data"
    }
   ],
   "source": [
    "sns.set(style=\"whitegrid\")\n",
    "\n",
    "trial_jobs = exp.list_trial_jobs()\n",
    "job_ids = [x.trialJobId for x in trial_jobs if x.status == 'SUCCEEDED']\n",
    "final_metrics = [float(x.finalMetricData[0].data) for x in trial_jobs if x.status == 'SUCCEEDED']\n",
    "\n",
    "data = {'job id': job_ids, 'final metrics': final_metrics}\n",
    "sns.set(rc={'figure.figsize':(15, 6)})\n",
    "\n",
    "plt.title('Trial job final results')\n",
    "ax = sns.barplot(x='job id', y='final metrics', data=data) \n",
    "\n",
    "for i,p in enumerate(ax.patches):\n",
    "    ax.annotate('{:.4f}'.format(p.get_height()), (p.get_x() + p.get_width() / 2., p.get_height()),\n",
    "                 ha='center', va='center', fontsize=11, color='black', rotation=0, xytext=(0, 5),\n",
    "                 textcoords='offset points') "
   ]
  },
  {
   "cell_type": "markdown",
   "metadata": {},
   "source": [
    "##  Other APIs\n",
    "\n",
    "For detailed API reference, please refer to [this page](https://nni.readthedocs.io/en/latest/nnicli_ref.html)."
   ]
  },
  {
   "cell_type": "code",
   "execution_count": 16,
   "metadata": {},
   "outputs": [
    {
     "name": "stdout",
     "output_type": "stream",
     "text": [
      "INFO:  Stopping experiment xpX702bz\n",
      "INFO:  Stop experiment success.\n"
     ]
    }
   ],
   "source": [
    "exp.stop_experiment()"
   ]
  },
  {
   "cell_type": "code",
   "execution_count": 17,
   "metadata": {},
   "outputs": [
    {
     "name": "stdout",
     "output_type": "stream",
     "text": [
      "INFO:  resume experiment xpX702bz...\n",
      "INFO:  Starting restful server...\n",
      "INFO:  Successfully started Restful server!\n",
      "INFO:  Setting adl config...\n",
      "INFO:  Successfully set adl config!\n",
      "INFO:  Starting experiment...\n",
      "INFO:  Successfully started experiment!\n",
      "------------------------------------------------------------------------------------\n",
      "The experiment id is xpX702bz\n",
      "The Web UI urls are: 10.20.100.121:8080\n",
      "------------------------------------------------------------------------------------\n",
      "\n",
      "You can use these commands to get more information about the experiment\n",
      "------------------------------------------------------------------------------------\n",
      "commands                       description\n",
      "1. nnictl experiment show        show the information of experiments\n",
      "2. nnictl trial ls               list all of trial jobs\n",
      "3. nnictl top                    monitor the status of running experiments\n",
      "4. nnictl log stderr             show stderr log content\n",
      "5. nnictl log stdout             show stdout log content\n",
      "6. nnictl stop                   stop an experiment\n",
      "7. nnictl trial kill             kill a trial job by id\n",
      "8. nnictl --help                 get help information about nnictl\n",
      "------------------------------------------------------------------------------------\n",
      "Command reference document https://nni.readthedocs.io/en/latest/Tutorial/Nnictl.html\n",
      "------------------------------------------------------------------------------------\n",
      "\n"
     ]
    }
   ],
   "source": [
    "another_exp = Experiment()\n",
    "another_exp.resume_experiment(exp_id='xpX702bz')"
   ]
  }
 ],
 "metadata": {
  "kernelspec": {
   "display_name": "Python 3",
   "language": "python",
   "name": "python3"
  },
  "language_info": {
   "codemirror_mode": {
    "name": "ipython",
    "version": 3
   },
   "file_extension": ".py",
   "mimetype": "text/x-python",
   "name": "python",
   "nbconvert_exporter": "python",
   "pygments_lexer": "ipython3",
   "version": "3.8.5"
  }
 },
 "nbformat": 4,
 "nbformat_minor": 2
}
